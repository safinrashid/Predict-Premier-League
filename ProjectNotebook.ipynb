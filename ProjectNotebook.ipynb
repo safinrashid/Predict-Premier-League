{
 "cells": [
  {
   "cell_type": "code",
   "execution_count": 1,
   "metadata": {},
   "outputs": [],
   "source": [
    "import pandas as pd\n",
    "import os\n",
    "import numpy as np\n",
    "import matplotlib.pyplot as plt\n",
    "from datetime import datetime\n",
    "import copy\n",
    "import seaborn as sns\n",
    "import requests\n",
    "from bs4 import BeautifulSoup\n",
    "from sklearn.model_selection import train_test_split\n",
    "from sklearn.ensemble import RandomForestClassifier\n",
    "from sklearn.metrics import accuracy_score\n",
    "from sklearn.feature_extraction.text import CountVectorizer\n",
    "from sklearn.pipeline import make_pipeline"
   ]
  },
  {
   "cell_type": "code",
   "execution_count": null,
   "metadata": {},
   "outputs": [],
   "source": [
    "s0001 = pd.read_csv(\"EPL_2000_2022.csv\")\n",
    "colsToKeep = list([\"Div\",\"Date\",\"HomeTeam\",\"AwayTeam\",\"FTHG\",\"HG\",\"FTAG\",\"AG\",\"FTR\",\"Res\",\"HTHG\",\"HTAG\",\"HTR\",\"HS\",\"AS\",\"HST\",\"AST\",\"HHW\",\"AHW\",\"HC\",\"AC\",\"HF\",\"AF\",\"HO\",\"AO\",\"HY\",\"AY\",\"HR\",\"AR\"])\n",
    "allCols = s0001.columns\n",
    "colsToDrop = set(allCols) - set(colsToKeep)\n",
    "s0001 = s0001.drop(labels=colsToDrop,axis=1)\n",
    "\n",
    "with pd.option_context('display.max_rows', None, 'display.max_columns', None):\n",
    "    print(s0001.head())"
   ]
  },
  {
   "cell_type": "code",
   "execution_count": 2,
   "metadata": {},
   "outputs": [],
   "source": [
    "def scrape_articles(url):\n",
    "    response = requests.get(url)\n",
    "    soup = BeautifulSoup(response.text, 'html.parser')\n",
    "    articles = []\n",
    "\n",
    "    for article in soup.find_all('article'):\n",
    "        title = article.find('h2').text.strip()\n",
    "        content = article.find('div', class_='content').text.strip()\n",
    "        articles.append({'title': title, 'content': content})\n",
    "\n",
    "    return articles"
   ]
  },
  {
   "cell_type": "code",
   "execution_count": null,
   "metadata": {},
   "outputs": [],
   "source": [
    "premier_league_url = 'https://www.premierleague.com/news'\n",
    "articles = scrape_articles(premier_league_url)"
   ]
  }
 ],
 "metadata": {
  "kernelspec": {
   "display_name": "Python 3",
   "language": "python",
   "name": "python3"
  },
  "language_info": {
   "codemirror_mode": {
    "name": "ipython",
    "version": 3
   },
   "file_extension": ".py",
   "mimetype": "text/x-python",
   "name": "python",
   "nbconvert_exporter": "python",
   "pygments_lexer": "ipython3",
   "version": "3.11.6"
  }
 },
 "nbformat": 4,
 "nbformat_minor": 2
}
